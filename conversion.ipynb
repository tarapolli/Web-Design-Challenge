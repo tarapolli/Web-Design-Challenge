{
 "cells": [
  {
   "cell_type": "code",
   "execution_count": 2,
   "metadata": {},
   "outputs": [
    {
     "data": {
      "text/html": "<div>\n<style scoped>\n    .dataframe tbody tr th:only-of-type {\n        vertical-align: middle;\n    }\n\n    .dataframe tbody tr th {\n        vertical-align: top;\n    }\n\n    .dataframe thead th {\n        text-align: right;\n    }\n</style>\n<table border=\"1\" class=\"dataframe\">\n  <thead>\n    <tr style=\"text-align: right;\">\n      <th></th>\n      <th>City_ID</th>\n      <th>City</th>\n      <th>Cloudiness</th>\n      <th>Country</th>\n      <th>Date</th>\n      <th>Humidity</th>\n      <th>Lat</th>\n      <th>Lng</th>\n      <th>Max Temp</th>\n      <th>Wind Speed</th>\n    </tr>\n  </thead>\n  <tbody>\n    <tr>\n      <th>0</th>\n      <td>0</td>\n      <td>jacareacanga</td>\n      <td>0</td>\n      <td>BR</td>\n      <td>1528902000</td>\n      <td>62</td>\n      <td>-6.22</td>\n      <td>-57.76</td>\n      <td>89.60</td>\n      <td>6.93</td>\n    </tr>\n    <tr>\n      <th>1</th>\n      <td>1</td>\n      <td>kaitangata</td>\n      <td>100</td>\n      <td>NZ</td>\n      <td>1528905304</td>\n      <td>94</td>\n      <td>-46.28</td>\n      <td>169.85</td>\n      <td>42.61</td>\n      <td>5.64</td>\n    </tr>\n    <tr>\n      <th>2</th>\n      <td>2</td>\n      <td>goulburn</td>\n      <td>20</td>\n      <td>AU</td>\n      <td>1528905078</td>\n      <td>91</td>\n      <td>-34.75</td>\n      <td>149.72</td>\n      <td>44.32</td>\n      <td>10.11</td>\n    </tr>\n    <tr>\n      <th>3</th>\n      <td>3</td>\n      <td>lata</td>\n      <td>76</td>\n      <td>IN</td>\n      <td>1528905305</td>\n      <td>89</td>\n      <td>30.78</td>\n      <td>78.62</td>\n      <td>59.89</td>\n      <td>0.94</td>\n    </tr>\n    <tr>\n      <th>4</th>\n      <td>4</td>\n      <td>chokurdakh</td>\n      <td>0</td>\n      <td>RU</td>\n      <td>1528905306</td>\n      <td>88</td>\n      <td>70.62</td>\n      <td>147.90</td>\n      <td>32.17</td>\n      <td>2.95</td>\n    </tr>\n  </tbody>\n</table>\n</div>",
      "text/plain": "   City_ID          City  Cloudiness  ...     Lng  Max Temp  Wind Speed\n0        0  jacareacanga           0  ...  -57.76     89.60        6.93\n1        1    kaitangata         100  ...  169.85     42.61        5.64\n2        2      goulburn          20  ...  149.72     44.32       10.11\n3        3          lata          76  ...   78.62     59.89        0.94\n4        4    chokurdakh           0  ...  147.90     32.17        2.95\n\n[5 rows x 10 columns]"
     },
     "execution_count": 2,
     "metadata": {},
     "output_type": "execute_result"
    }
   ],
   "source": [
    "import pandas as pd\r\n",
    "df = pd.read_csv(\"cities.csv\")\r\n",
    "df.head()"
   ]
  },
  {
   "cell_type": "code",
   "execution_count": 3,
   "metadata": {},
   "outputs": [],
   "source": [
    "df.to_html(\"cities_data.html\")"
   ]
  }
 ],
 "metadata": {
  "kernelspec": {
   "display_name": "Python 3.8.3 64-bit (conda)",
   "metadata": {
    "interpreter": {
     "hash": "5ab0028e6519255c3675e05aa4cb7ccb4104483825f5353fabba750f68c6f4fc"
    }
   },
   "name": "python3"
  },
  "language_info": {
   "codemirror_mode": {
    "name": "ipython",
    "version": 3
   },
   "file_extension": ".py",
   "mimetype": "text/x-python",
   "name": "python",
   "nbconvert_exporter": "python",
   "pygments_lexer": "ipython3",
   "version": "3.8.3-final"
  },
  "orig_nbformat": 2
 },
 "nbformat": 4,
 "nbformat_minor": 2
}